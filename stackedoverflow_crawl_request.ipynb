{
 "cells": [
  {
   "cell_type": "code",
   "execution_count": null,
   "metadata": {},
   "outputs": [
    {
     "name": "stdout",
     "output_type": "stream",
     "text": [
      "Data berhasil disimpan ke CSV.\n"
     ]
    }
   ],
   "source": [
    "import requests\n",
    "from bs4 import BeautifulSoup\n",
    "import pandas as pd\n",
    "import time\n",
    "\n",
    "# Variabel untuk menyimpan link dari beberapa halaman\n",
    "list_link = []\n",
    "\n",
    "# Menentukan jumlah halaman yang ingin diambil\n",
    "num_pages = 1  \n",
    "\n",
    "# Loop untuk setiap halaman\n",
    "for page_num in range(1, num_pages + 1):\n",
    "    # URL halaman dengan nomor halaman dinamis\n",
    "    url = f\"https://stackoverflow.com/questions/tagged/python?tab=newest&page={page_num}&pagesize=50\"\n",
    "    \n",
    "    # Permintaan HTTP ke halaman\n",
    "    response = requests.get(url)\n",
    "    \n",
    "    # Pastikan respons sukses\n",
    "    if response.status_code == 200:\n",
    "        # Parse konten HTML dengan BeautifulSoup\n",
    "        data = BeautifulSoup(response.text, 'html.parser')\n",
    "        \n",
    "        # Temukan semua elemen judul yang memiliki link ke pertanyaan\n",
    "        for area in data.find_all('h3', class_=\"s-post-summary--content-title\"):\n",
    "            link = \"https://stackoverflow.com\" + area.find('a')['href']  # Tambahkan domain\n",
    "            list_link.append(link)  # Tambahkan link ke list_link\n",
    "            \n",
    "        print(f\"Berhasil mengambil data dari halaman {page_num}\")\n",
    "        \n",
    "        # Tambahkan jeda agar tidak terlalu cepat mengirim permintaan\n",
    "        time.sleep(1)\n",
    "    else:\n",
    "        print(f\"Gagal mengambil data dari halaman {page_num}, status code: {response.status_code}\")\n",
    "\n",
    "# Buat DataFrame dari link yang ditemukan\n",
    "df = pd.DataFrame({\n",
    "    'Link_question': list_link,\n",
    "})\n",
    "\n",
    "# Simpan DataFrame ke file CSV\n",
    "file_path = 'HasilCrawl_request.csv'\n",
    "df.to_csv(file_path, index=False)\n",
    "\n"
   ]
  },
  {
   "cell_type": "code",
   "execution_count": null,
   "metadata": {},
   "outputs": [],
   "source": []
  }
 ],
 "metadata": {
  "kernelspec": {
   "display_name": "myenv",
   "language": "python",
   "name": "python3"
  },
  "language_info": {
   "codemirror_mode": {
    "name": "ipython",
    "version": 3
   },
   "file_extension": ".py",
   "mimetype": "text/x-python",
   "name": "python",
   "nbconvert_exporter": "python",
   "pygments_lexer": "ipython3",
   "version": "3.11.9"
  }
 },
 "nbformat": 4,
 "nbformat_minor": 2
}
