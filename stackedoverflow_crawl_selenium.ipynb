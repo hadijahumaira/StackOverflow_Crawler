{
 "cells": [
  {
   "cell_type": "code",
   "execution_count": 3,
   "metadata": {},
   "outputs": [],
   "source": [
    "from selenium import webdriver\n",
    "from bs4 import BeautifulSoup\n",
    "import pandas as pd\n",
    "import time\n",
    "\n",
    "# Inisialisasi driver Chrome\n",
    "driver = webdriver.Chrome()\n",
    "driver.set_window_size(1300, 800)\n",
    "\n",
    "# Variabel untuk menyimpan link dari beberapa halaman\n",
    "list_link = []\n",
    "\n",
    "# Menentukan jumlah halaman yang ingin diambil\n",
    "num_pages = 5  # Ubah sesuai kebutuhan Anda\n",
    "\n",
    "# Loop untuk setiap halaman\n",
    "for page_num in range(1, num_pages + 1):\n",
    "    # URL halaman dengan nomor halaman dinamis\n",
    "    link = f\"https://stackoverflow.com/questions/tagged/python?tab=newest&page={page_num}&pagesize=15\"\n",
    "    driver.get(link)\n",
    "    \n",
    "    # Ambil source page HTML\n",
    "    content = driver.page_source\n",
    "    \n",
    "    # Parse konten HTML dengan BeautifulSoup\n",
    "    data = BeautifulSoup(content, 'html.parser')\n",
    "    \n",
    "    # Temukan semua elemen judul yang memiliki link ke pertanyaan\n",
    "    for area in data.find_all('h3', class_=\"s-post-summary--content-title\"):\n",
    "        link = \"https://stackoverflow.com\" + area.find('a')['href']  # Tambahkan domain\n",
    "        list_link.append(link)  # Tambahkan link ke list_link\n",
    "\n",
    "# Tutup driver setelah selesai\n",
    "driver.quit()\n",
    "\n",
    "# Buat DataFrame dari link yang ditemukan\n",
    "df = pd.DataFrame({\n",
    "    'Link_question': list_link,\n",
    "})\n",
    "\n",
    "# Simpan DataFrame ke file CSV\n",
    "file_path = 'HasilCrawl_selenium.csv'\n",
    "df.to_csv(file_path, index=False)\n"
   ]
  },
  {
   "cell_type": "code",
   "execution_count": null,
   "metadata": {},
   "outputs": [],
   "source": []
  }
 ],
 "metadata": {
  "kernelspec": {
   "display_name": "myenv",
   "language": "python",
   "name": "python3"
  },
  "language_info": {
   "codemirror_mode": {
    "name": "ipython",
    "version": 3
   },
   "file_extension": ".py",
   "mimetype": "text/x-python",
   "name": "python",
   "nbconvert_exporter": "python",
   "pygments_lexer": "ipython3",
   "version": "3.11.9"
  }
 },
 "nbformat": 4,
 "nbformat_minor": 2
}
